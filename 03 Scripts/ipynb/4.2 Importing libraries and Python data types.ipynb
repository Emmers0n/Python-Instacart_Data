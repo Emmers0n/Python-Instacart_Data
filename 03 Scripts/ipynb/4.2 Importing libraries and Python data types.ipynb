{
 "cells": [
  {
   "cell_type": "markdown",
   "id": "6a36d4a9",
   "metadata": {},
   "source": [
    "# 01. Importing Libraries"
   ]
  },
  {
   "cell_type": "code",
   "execution_count": 1,
   "id": "2560ad96",
   "metadata": {},
   "outputs": [],
   "source": [
    "# Import Libraries\n",
    "import pandas as pd\n",
    "import numpy as np\n",
    "import os"
   ]
  },
  {
   "cell_type": "code",
   "execution_count": 24,
   "id": "e7b196a6",
   "metadata": {},
   "outputs": [
    {
     "data": {
      "text/plain": [
       "100"
      ]
     },
     "execution_count": 24,
     "metadata": {},
     "output_type": "execute_result"
    }
   ],
   "source": [
    "x=10\n",
    "10*x"
   ]
  },
  {
   "cell_type": "code",
   "execution_count": 26,
   "id": "870d2e45",
   "metadata": {},
   "outputs": [
    {
     "data": {
      "text/plain": [
       "100"
      ]
     },
     "execution_count": 26,
     "metadata": {},
     "output_type": "execute_result"
    }
   ],
   "source": [
    "y=50\n",
    "z=15\n",
    "1*y+2*z+2*x"
   ]
  },
  {
   "cell_type": "code",
   "execution_count": 29,
   "id": "6377a024",
   "metadata": {},
   "outputs": [
    {
     "data": {
      "text/plain": [
       "100.0"
      ]
     },
     "execution_count": 29,
     "metadata": {},
     "output_type": "execute_result"
    }
   ],
   "source": [
    "(y/x)*2*x"
   ]
  },
  {
   "cell_type": "code",
   "execution_count": 32,
   "id": "16732bd1",
   "metadata": {},
   "outputs": [
    {
     "data": {
      "text/plain": [
       "1.6707679981687078"
      ]
     },
     "execution_count": 32,
     "metadata": {},
     "output_type": "execute_result"
    }
   ],
   "source": [
    "a=5.839\n",
    "b=3.4948\n",
    "a/b"
   ]
  },
  {
   "cell_type": "code",
   "execution_count": 36,
   "id": "53a99333",
   "metadata": {},
   "outputs": [
    {
     "data": {
      "text/plain": [
       "'hello, world'"
      ]
     },
     "execution_count": 36,
     "metadata": {},
     "output_type": "execute_result"
    }
   ],
   "source": [
    "c='hello, '\n",
    "d='world'\n",
    "c+d"
   ]
  },
  {
   "cell_type": "code",
   "execution_count": 40,
   "id": "3c7accf3",
   "metadata": {},
   "outputs": [
    {
     "data": {
      "text/plain": [
       "'Where are you?'"
      ]
     },
     "execution_count": 40,
     "metadata": {},
     "output_type": "execute_result"
    }
   ],
   "source": [
    "f='Where '\n",
    "g='are you?'\n",
    "h='am I?'\n",
    "f+g\n"
   ]
  },
  {
   "cell_type": "code",
   "execution_count": 42,
   "id": "8edca1a5",
   "metadata": {},
   "outputs": [
    {
     "data": {
      "text/plain": [
       "'Where am I?'"
      ]
     },
     "execution_count": 42,
     "metadata": {},
     "output_type": "execute_result"
    }
   ],
   "source": [
    "f+h"
   ]
  },
  {
   "cell_type": "code",
   "execution_count": null,
   "id": "7d124555",
   "metadata": {},
   "outputs": [],
   "source": []
  }
 ],
 "metadata": {
  "kernelspec": {
   "display_name": "Python 3 (ipykernel)",
   "language": "python",
   "name": "python3"
  },
  "language_info": {
   "codemirror_mode": {
    "name": "ipython",
    "version": 3
   },
   "file_extension": ".py",
   "mimetype": "text/x-python",
   "name": "python",
   "nbconvert_exporter": "python",
   "pygments_lexer": "ipython3",
   "version": "3.9.13"
  }
 },
 "nbformat": 4,
 "nbformat_minor": 5
}
